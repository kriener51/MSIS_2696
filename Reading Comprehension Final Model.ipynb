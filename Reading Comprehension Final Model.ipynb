{
 "cells": [
  {
   "cell_type": "markdown",
   "metadata": {},
   "source": [
    "#                                           Group 9 / Neural Geeks\n",
    "                                            Kyle Riener - 1443856\n",
    "                                            Sofia Kenny -  0963051\n",
    "                                            Srinivasan Vasudevan - 1455328\n",
    "                                            Elva Shen -  1414646\n",
    "                                            Greg Murray - \n",
    "Title : Simple Question And Answering System\n",
    "dataset: bAbi dataset\n",
    "Date: DEC 5th 2018"
   ]
  },
  {
   "cell_type": "code",
   "execution_count": 1,
   "metadata": {},
   "outputs": [
    {
     "name": "stderr",
     "output_type": "stream",
     "text": [
      "c:\\users\\kyle\\anaconda3\\lib\\site-packages\\h5py\\__init__.py:36: FutureWarning: Conversion of the second argument of issubdtype from `float` to `np.floating` is deprecated. In future, it will be treated as `np.float64 == np.dtype(float).type`.\n",
      "  from ._conv import register_converters as _register_converters\n",
      "Using TensorFlow backend.\n"
     ]
    }
   ],
   "source": [
    "from keras.models import Sequential, Model\n",
    "from keras.layers.embeddings import Embedding\n",
    "from keras.layers import Input, Activation, Dense, Permute, Dropout\n",
    "from keras.layers import add, dot, concatenate\n",
    "from keras.layers import LSTM\n",
    "from keras.utils.data_utils import get_file\n",
    "from keras.preprocessing.sequence import pad_sequences\n",
    "from functools import reduce\n",
    "import tarfile\n",
    "import numpy as np\n",
    "import re\n",
    "import os, fnmatch,glob,pathlib\n",
    "from keras.layers import Bidirectional\n",
    "import tensorflow as tf"
   ]
  },
  {
   "cell_type": "markdown",
   "metadata": {},
   "source": [
    "# Preprocessing"
   ]
  },
  {
   "cell_type": "code",
   "execution_count": 2,
   "metadata": {},
   "outputs": [],
   "source": [
    "TEXT_DATA_DIR = '.'\n",
    "path = TEXT_DATA_DIR\n",
    "def tokenize(sent):\n",
    "    '''Tokenize the data'''\n",
    "    return [x.strip() for x in re.split('(\\W+)?', sent) if x.strip()]"
   ]
  },
  {
   "cell_type": "code",
   "execution_count": 3,
   "metadata": {},
   "outputs": [],
   "source": [
    "def parse_stories(lines, only_supporting=False):\n",
    "    '''Parse stories provided in the bAbi tasks format\n",
    "    If only_supporting is true, only the sentences\n",
    "    that support the answer are kept.\n",
    "    '''\n",
    "    data = []\n",
    "    story = []\n",
    "    for line in lines:\n",
    "        nid, line = line.split(' ', 1)\n",
    "        nid = int(nid)\n",
    "        if nid == 1:\n",
    "            story = []\n",
    "        if '\\t' in line:\n",
    "            q, a, supporting = line.split('\\t')\n",
    "            q = tokenize(q)\n",
    "            if only_supporting:\n",
    "                # Only select the related substory\n",
    "                supporting = map(int, supporting.split())\n",
    "                substory = [story[i - 1] for i in supporting]\n",
    "            else:\n",
    "                # Provide all the substories\n",
    "                substory = [x for x in story if x]\n",
    "            data.append((substory, q, a))\n",
    "            story.append('')\n",
    "        else:\n",
    "            sent = tokenize(line)\n",
    "            story.append(sent)\n",
    "    return data"
   ]
  },
  {
   "cell_type": "code",
   "execution_count": 4,
   "metadata": {},
   "outputs": [],
   "source": [
    "def get_stories(fi, only_supporting=False, max_length=None):\n",
    "    '''Read in file and convert to single story'''\n",
    "    print(fi)\n",
    "    f = open(fi)\n",
    "    data = parse_stories(f.readlines(), only_supporting=only_supporting)\n",
    "    flatten = lambda data: reduce(lambda x, y: x + y, data)\n",
    "    data = [(flatten(story), q, answer) for story, q, answer in data\n",
    "            if not max_length or len(flatten(story)) < max_length]\n",
    "    f.close\n",
    "    return data"
   ]
  },
  {
   "cell_type": "code",
   "execution_count": 5,
   "metadata": {},
   "outputs": [],
   "source": [
    "def vectorize_stories(data):\n",
    "    '''Break out story to context, question, and answer\n",
    "    and pad context and question\n",
    "    '''\n",
    "    inputs, queries, answers = [], [], []\n",
    "    for story, query, answer in data:\n",
    "        inputs.append([word_idx[w] for w in story])\n",
    "        queries.append([word_idx[w] for w in query])\n",
    "        answers.append(word_idx[answer])\n",
    "    return (pad_sequences(inputs, maxlen=story_maxlen),\n",
    "            pad_sequences(queries, maxlen=query_maxlen),\n",
    "            np.array(answers))"
   ]
  },
  {
   "cell_type": "code",
   "execution_count": 6,
   "metadata": {},
   "outputs": [
    {
     "name": "stdout",
     "output_type": "stream",
     "text": [
      ".\\qa1_train.txt\n"
     ]
    },
    {
     "name": "stderr",
     "output_type": "stream",
     "text": [
      "c:\\users\\kyle\\anaconda3\\lib\\re.py:212: FutureWarning: split() requires a non-empty pattern match.\n",
      "  return _compile(pattern, flags).split(string, maxsplit)\n"
     ]
    },
    {
     "name": "stdout",
     "output_type": "stream",
     "text": [
      ".\\qa1_test.txt\n",
      "-\n",
      "Vocab size: 22 unique words\n",
      "Story max length: 68 words\n",
      "Query max length: 4 words\n",
      "Number of training stories: 9000\n",
      "Number of test stories: 1000\n",
      "-\n",
      "Here's what a \"story\" tuple looks like (input, query, answer):\n",
      "(['Mary', 'moved', 'to', 'the', 'bathroom', '.', 'John', 'went', 'to', 'the', 'hallway', '.'], ['Where', 'is', 'Mary', '?'], 'bathroom')\n",
      "-\n",
      "Vectorizing the word sequences...\n",
      "-\n",
      "inputs: integer tensor of shape (samples, max_length)\n",
      "inputs_train shape: (9000, 68)\n",
      "inputs_test shape: (1000, 68)\n",
      "-\n",
      "queries: integer tensor of shape (samples, max_length)\n",
      "queries_train shape: (9000, 4)\n",
      "queries_test shape: (1000, 4)\n",
      "-\n",
      "answers: binary (1 or 0) tensor of shape (samples, vocab_size)\n",
      "answers_train shape: (9000,)\n",
      "answers_test shape: (1000,)\n",
      "-\n",
      "Compiling...\n"
     ]
    }
   ],
   "source": [
    "# we will only use qa1 data\n",
    "trainpattern='qa1_train.txt'\n",
    "testpattern='qa1_test.txt'\n",
    "\n",
    "# Read in files\n",
    "trainfiles=fnmatch.filter(os.listdir(TEXT_DATA_DIR), trainpattern)\n",
    "testfiles=fnmatch.filter(os.listdir(TEXT_DATA_DIR), testpattern)\n",
    "for f in trainfiles:\n",
    "    train_stories = get_stories(os.path.join(TEXT_DATA_DIR, f))\n",
    "for f in testfiles:\n",
    "    test_stories = get_stories(os.path.join(TEXT_DATA_DIR, f))\n",
    "\n",
    "# Build the vocabulary from our data\n",
    "vocab = set()\n",
    "for story, q, answer in train_stories + test_stories:\n",
    "    vocab |= set(story + q + [answer])\n",
    "vocab = sorted(vocab)\n",
    "\n",
    "# Reserve 0 for masking via pad_sequences\n",
    "vocab_size = len(vocab) + 1\n",
    "story_maxlen = max(map(len, (x for x, _, _ in train_stories + test_stories)))\n",
    "query_maxlen = max(map(len, (x for _, x, _ in train_stories + test_stories)))\n",
    "\n",
    "# Print details of our data\n",
    "print('-')\n",
    "print('Vocab size:', vocab_size, 'unique words')\n",
    "print('Story max length:', story_maxlen, 'words')\n",
    "print('Query max length:', query_maxlen, 'words')\n",
    "print('Number of training stories:', len(train_stories))\n",
    "print('Number of test stories:', len(test_stories))\n",
    "print('-')\n",
    "print('Here\\'s what a \"story\" tuple looks like (input, query, answer):')\n",
    "print(train_stories[0])\n",
    "print('-')\n",
    "print('Vectorizing the word sequences...')\n",
    "\n",
    "word_idx = dict((c, i + 1) for i, c in enumerate(vocab))\n",
    "inputs_train, queries_train, answers_train = vectorize_stories(train_stories)\n",
    "inputs_test, queries_test, answers_test = vectorize_stories(test_stories)\n",
    "\n",
    "print('-')\n",
    "print('inputs: integer tensor of shape (samples, max_length)')\n",
    "print('inputs_train shape:', inputs_train.shape)\n",
    "print('inputs_test shape:', inputs_test.shape)\n",
    "print('-')\n",
    "print('queries: integer tensor of shape (samples, max_length)')\n",
    "print('queries_train shape:', queries_train.shape)\n",
    "print('queries_test shape:', queries_test.shape)\n",
    "print('-')\n",
    "print('answers: binary (1 or 0) tensor of shape (samples, vocab_size)')\n",
    "print('answers_train shape:', answers_train.shape)\n",
    "print('answers_test shape:', answers_test.shape)\n",
    "print('-')\n",
    "print('Compiling...')"
   ]
  },
  {
   "cell_type": "markdown",
   "metadata": {},
   "source": [
    "# Build Model with BIDIR"
   ]
  },
  {
   "cell_type": "code",
   "execution_count": 7,
   "metadata": {},
   "outputs": [
    {
     "name": "stdout",
     "output_type": "stream",
     "text": [
      "Train on 9000 samples, validate on 1000 samples\n",
      "Epoch 1/140\n",
      "9000/9000 [==============================] - 9s 981us/step - loss: 1.9441 - acc: 0.1690 - val_loss: 1.8429 - val_acc: 0.1570\n",
      "Epoch 2/140\n",
      "9000/9000 [==============================] - 5s 517us/step - loss: 1.7675 - acc: 0.2169 - val_loss: 1.6561 - val_acc: 0.2730\n",
      "Epoch 3/140\n",
      "9000/9000 [==============================] - 5s 507us/step - loss: 1.6071 - acc: 0.3263 - val_loss: 1.5403 - val_acc: 0.3310\n",
      "Epoch 4/140\n",
      "9000/9000 [==============================] - 4s 487us/step - loss: 1.5405 - acc: 0.3597 - val_loss: 1.5021 - val_acc: 0.3660\n",
      "Epoch 5/140\n",
      "9000/9000 [==============================] - 5s 512us/step - loss: 1.5142 - acc: 0.3856 - val_loss: 1.4530 - val_acc: 0.4410\n",
      "Epoch 6/140\n",
      "9000/9000 [==============================] - 5s 513us/step - loss: 1.4729 - acc: 0.3996 - val_loss: 1.4148 - val_acc: 0.4020\n",
      "Epoch 7/140\n",
      "9000/9000 [==============================] - 4s 500us/step - loss: 1.4312 - acc: 0.4227 - val_loss: 1.4003 - val_acc: 0.4260\n",
      "Epoch 8/140\n",
      "9000/9000 [==============================] - 5s 503us/step - loss: 1.4035 - acc: 0.4372 - val_loss: 1.3660 - val_acc: 0.4630\n",
      "Epoch 9/140\n",
      "9000/9000 [==============================] - 4s 500us/step - loss: 1.4004 - acc: 0.4416 - val_loss: 1.3668 - val_acc: 0.4560\n",
      "Epoch 10/140\n",
      "9000/9000 [==============================] - 5s 502us/step - loss: 1.3765 - acc: 0.4467 - val_loss: 1.3502 - val_acc: 0.4640\n",
      "Epoch 11/140\n",
      "9000/9000 [==============================] - ETA: 0s - loss: 1.3561 - acc: 0.474 - 4s 497us/step - loss: 1.3566 - acc: 0.4736 - val_loss: 1.3390 - val_acc: 0.5020\n",
      "Epoch 12/140\n",
      "9000/9000 [==============================] - 4s 497us/step - loss: 1.3265 - acc: 0.4871 - val_loss: 1.3046 - val_acc: 0.5130\n",
      "Epoch 13/140\n",
      "9000/9000 [==============================] - 4s 490us/step - loss: 1.3100 - acc: 0.4961 - val_loss: 1.2862 - val_acc: 0.5230\n",
      "Epoch 14/140\n",
      "9000/9000 [==============================] - 4s 493us/step - loss: 1.2937 - acc: 0.5022 - val_loss: 1.2738 - val_acc: 0.5160\n",
      "Epoch 15/140\n",
      "9000/9000 [==============================] - 4s 485us/step - loss: 1.2767 - acc: 0.5122 - val_loss: 1.2513 - val_acc: 0.5240\n",
      "Epoch 16/140\n",
      "9000/9000 [==============================] - 5s 507us/step - loss: 1.2590 - acc: 0.5118 - val_loss: 1.2498 - val_acc: 0.5190\n",
      "Epoch 17/140\n",
      "9000/9000 [==============================] - 5s 502us/step - loss: 1.2415 - acc: 0.5172 - val_loss: 1.2482 - val_acc: 0.5270\n",
      "Epoch 18/140\n",
      "9000/9000 [==============================] - 4s 475us/step - loss: 1.2297 - acc: 0.5199 - val_loss: 1.2372 - val_acc: 0.5240\n",
      "Epoch 19/140\n",
      "9000/9000 [==============================] - 4s 492us/step - loss: 1.2073 - acc: 0.5236 - val_loss: 1.2372 - val_acc: 0.5180\n",
      "Epoch 20/140\n",
      "9000/9000 [==============================] - 4s 485us/step - loss: 1.1922 - acc: 0.5242 - val_loss: 1.2378 - val_acc: 0.5120\n",
      "Epoch 21/140\n",
      "9000/9000 [==============================] - 4s 486us/step - loss: 1.1843 - acc: 0.5293 - val_loss: 1.2102 - val_acc: 0.5110\n",
      "Epoch 22/140\n",
      "9000/9000 [==============================] - 4s 470us/step - loss: 1.1774 - acc: 0.5326 - val_loss: 1.1947 - val_acc: 0.5090\n",
      "Epoch 23/140\n",
      "9000/9000 [==============================] - 4s 499us/step - loss: 1.1496 - acc: 0.5416 - val_loss: 1.1944 - val_acc: 0.5120\n",
      "Epoch 24/140\n",
      "9000/9000 [==============================] - 4s 496us/step - loss: 1.1296 - acc: 0.5452 - val_loss: 1.2038 - val_acc: 0.5160\n",
      "Epoch 25/140\n",
      "9000/9000 [==============================] - 4s 483us/step - loss: 1.1128 - acc: 0.5612 - val_loss: 1.1684 - val_acc: 0.5430\n",
      "Epoch 26/140\n",
      "9000/9000 [==============================] - 4s 467us/step - loss: 1.0638 - acc: 0.5906 - val_loss: 1.1011 - val_acc: 0.5850\n",
      "Epoch 27/140\n",
      "9000/9000 [==============================] - 4s 491us/step - loss: 0.9894 - acc: 0.6296 - val_loss: 1.0103 - val_acc: 0.6450\n",
      "Epoch 28/140\n",
      "9000/9000 [==============================] - 4s 479us/step - loss: 0.8867 - acc: 0.6841 - val_loss: 0.8485 - val_acc: 0.7120\n",
      "Epoch 29/140\n",
      "9000/9000 [==============================] - 4s 459us/step - loss: 0.7931 - acc: 0.7209 - val_loss: 0.7636 - val_acc: 0.7360\n",
      "Epoch 30/140\n",
      "9000/9000 [==============================] - 4s 470us/step - loss: 0.7078 - acc: 0.7524 - val_loss: 0.6941 - val_acc: 0.7610\n",
      "Epoch 31/140\n",
      "9000/9000 [==============================] - 4s 480us/step - loss: 0.6467 - acc: 0.7749 - val_loss: 0.6519 - val_acc: 0.7760\n",
      "Epoch 32/140\n",
      "9000/9000 [==============================] - 4s 476us/step - loss: 0.5864 - acc: 0.7940 - val_loss: 0.5950 - val_acc: 0.7960\n",
      "Epoch 33/140\n",
      "9000/9000 [==============================] - 4s 450us/step - loss: 0.5399 - acc: 0.8122 - val_loss: 0.5219 - val_acc: 0.8080\n",
      "Epoch 34/140\n",
      "9000/9000 [==============================] - 4s 464us/step - loss: 0.5024 - acc: 0.8239 - val_loss: 0.4971 - val_acc: 0.8140\n",
      "Epoch 35/140\n",
      "9000/9000 [==============================] - 4s 478us/step - loss: 0.4718 - acc: 0.8370 - val_loss: 0.4771 - val_acc: 0.8340\n",
      "Epoch 36/140\n",
      "9000/9000 [==============================] - 4s 465us/step - loss: 0.4363 - acc: 0.8490 - val_loss: 0.4615 - val_acc: 0.8350\n",
      "Epoch 37/140\n",
      "9000/9000 [==============================] - 4s 453us/step - loss: 0.4136 - acc: 0.8557 - val_loss: 0.4761 - val_acc: 0.8300\n",
      "Epoch 38/140\n",
      "9000/9000 [==============================] - 4s 474us/step - loss: 0.3994 - acc: 0.8611 - val_loss: 0.4593 - val_acc: 0.8250\n",
      "Epoch 39/140\n",
      "9000/9000 [==============================] - 4s 473us/step - loss: 0.3834 - acc: 0.8677 - val_loss: 0.4515 - val_acc: 0.8360\n",
      "Epoch 40/140\n",
      "9000/9000 [==============================] - 4s 463us/step - loss: 0.3738 - acc: 0.8741 - val_loss: 0.4427 - val_acc: 0.8470\n",
      "Epoch 41/140\n",
      "9000/9000 [==============================] - 4s 446us/step - loss: 0.3551 - acc: 0.8793 - val_loss: 0.4304 - val_acc: 0.8450\n",
      "Epoch 42/140\n",
      "9000/9000 [==============================] - 4s 475us/step - loss: 0.3433 - acc: 0.8826 - val_loss: 0.4457 - val_acc: 0.8350\n",
      "Epoch 43/140\n",
      "9000/9000 [==============================] - 4s 468us/step - loss: 0.3312 - acc: 0.8904 - val_loss: 0.4448 - val_acc: 0.8320\n",
      "Epoch 44/140\n",
      "9000/9000 [==============================] - 4s 452us/step - loss: 0.3072 - acc: 0.9021 - val_loss: 0.4288 - val_acc: 0.8410\n",
      "Epoch 45/140\n",
      "9000/9000 [==============================] - 4s 454us/step - loss: 0.3057 - acc: 0.9004 - val_loss: 0.4360 - val_acc: 0.8450\n",
      "Epoch 46/140\n",
      "9000/9000 [==============================] - 5s 509us/step - loss: 0.2833 - acc: 0.9110 - val_loss: 0.4492 - val_acc: 0.8400\n",
      "Epoch 47/140\n",
      "9000/9000 [==============================] - 5s 584us/step - loss: 0.2753 - acc: 0.9098 - val_loss: 0.4409 - val_acc: 0.8490\n",
      "Epoch 48/140\n",
      "9000/9000 [==============================] - 5s 567us/step - loss: 0.2789 - acc: 0.9090 - val_loss: 0.4371 - val_acc: 0.8480\n",
      "Epoch 49/140\n",
      "9000/9000 [==============================] - 5s 588us/step - loss: 0.2635 - acc: 0.9143 - val_loss: 0.4585 - val_acc: 0.8440\n",
      "Epoch 50/140\n",
      "9000/9000 [==============================] - 21s 2ms/step - loss: 0.2588 - acc: 0.9174 - val_loss: 0.4115 - val_acc: 0.8570\n",
      "Epoch 51/140\n",
      "9000/9000 [==============================] - 4s 433us/step - loss: 0.2520 - acc: 0.9192 - val_loss: 0.4094 - val_acc: 0.8570\n",
      "Epoch 52/140\n",
      "9000/9000 [==============================] - 4s 452us/step - loss: 0.2371 - acc: 0.9271 - val_loss: 0.4347 - val_acc: 0.8640\n",
      "Epoch 53/140\n",
      "9000/9000 [==============================] - 4s 465us/step - loss: 0.2250 - acc: 0.9318 - val_loss: 0.4411 - val_acc: 0.8570\n",
      "Epoch 54/140\n",
      "9000/9000 [==============================] - 4s 449us/step - loss: 0.2193 - acc: 0.9327 - val_loss: 0.3990 - val_acc: 0.8590\n",
      "Epoch 55/140\n",
      "9000/9000 [==============================] - 4s 455us/step - loss: 0.2084 - acc: 0.9384 - val_loss: 0.3724 - val_acc: 0.8700\n",
      "Epoch 56/140\n",
      "9000/9000 [==============================] - 4s 462us/step - loss: 0.1965 - acc: 0.9414 - val_loss: 0.4323 - val_acc: 0.8580\n",
      "Epoch 57/140\n",
      "9000/9000 [==============================] - 4s 450us/step - loss: 0.2067 - acc: 0.9379 - val_loss: 0.3834 - val_acc: 0.8720\n",
      "Epoch 58/140\n",
      "9000/9000 [==============================] - 4s 459us/step - loss: 0.2004 - acc: 0.9400 - val_loss: 0.3846 - val_acc: 0.8790\n",
      "Epoch 59/140\n",
      "9000/9000 [==============================] - 4s 446us/step - loss: 0.1912 - acc: 0.9453 - val_loss: 0.3597 - val_acc: 0.8830\n"
     ]
    },
    {
     "name": "stdout",
     "output_type": "stream",
     "text": [
      "Epoch 60/140\n",
      "9000/9000 [==============================] - 5s 521us/step - loss: 0.1887 - acc: 0.9454 - val_loss: 0.3730 - val_acc: 0.8830\n",
      "Epoch 61/140\n",
      "9000/9000 [==============================] - 5s 511us/step - loss: 0.1743 - acc: 0.9482 - val_loss: 0.3675 - val_acc: 0.8780\n",
      "Epoch 62/140\n",
      "9000/9000 [==============================] - 4s 480us/step - loss: 0.1766 - acc: 0.9476 - val_loss: 0.3518 - val_acc: 0.8950\n",
      "Epoch 63/140\n",
      "9000/9000 [==============================] - 5s 512us/step - loss: 0.1794 - acc: 0.9492 - val_loss: 0.3642 - val_acc: 0.8910\n",
      "Epoch 64/140\n",
      "9000/9000 [==============================] - 5s 519us/step - loss: 0.1589 - acc: 0.9538 - val_loss: 0.3689 - val_acc: 0.8860\n",
      "Epoch 65/140\n",
      "9000/9000 [==============================] - 5s 512us/step - loss: 0.1573 - acc: 0.9563 - val_loss: 0.3708 - val_acc: 0.8890\n",
      "Epoch 66/140\n",
      "9000/9000 [==============================] - 4s 476us/step - loss: 0.1664 - acc: 0.9539 - val_loss: 0.3374 - val_acc: 0.9060\n",
      "Epoch 67/140\n",
      "9000/9000 [==============================] - 5s 514us/step - loss: 0.1455 - acc: 0.9593 - val_loss: 0.3544 - val_acc: 0.9020\n",
      "Epoch 68/140\n",
      "9000/9000 [==============================] - 5s 513us/step - loss: 0.1539 - acc: 0.9570 - val_loss: 0.3421 - val_acc: 0.8940\n",
      "Epoch 69/140\n",
      "9000/9000 [==============================] - 5s 506us/step - loss: 0.1468 - acc: 0.9596 - val_loss: 0.3566 - val_acc: 0.8990\n",
      "Epoch 70/140\n",
      "9000/9000 [==============================] - 4s 495us/step - loss: 0.1535 - acc: 0.9561 - val_loss: 0.3351 - val_acc: 0.9020\n",
      "Epoch 71/140\n",
      "9000/9000 [==============================] - 5s 509us/step - loss: 0.1486 - acc: 0.9581 - val_loss: 0.3309 - val_acc: 0.9070\n",
      "Epoch 72/140\n",
      "9000/9000 [==============================] - 5s 507us/step - loss: 0.1408 - acc: 0.9616 - val_loss: 0.3387 - val_acc: 0.9020\n",
      "Epoch 73/140\n",
      "9000/9000 [==============================] - 4s 499us/step - loss: 0.1367 - acc: 0.9630 - val_loss: 0.3151 - val_acc: 0.9170\n",
      "Epoch 74/140\n",
      "9000/9000 [==============================] - 5s 515us/step - loss: 0.1344 - acc: 0.9634 - val_loss: 0.3477 - val_acc: 0.9060\n",
      "Epoch 75/140\n",
      "9000/9000 [==============================] - 4s 492us/step - loss: 0.1439 - acc: 0.9592 - val_loss: 0.3296 - val_acc: 0.9110\n",
      "Epoch 76/140\n",
      "9000/9000 [==============================] - 5s 502us/step - loss: 0.1310 - acc: 0.9651 - val_loss: 0.3269 - val_acc: 0.9150\n",
      "Epoch 77/140\n",
      "9000/9000 [==============================] - 4s 498us/step - loss: 0.1281 - acc: 0.9653 - val_loss: 0.3214 - val_acc: 0.9150\n",
      "Epoch 78/140\n",
      "9000/9000 [==============================] - 5s 506us/step - loss: 0.1310 - acc: 0.9636 - val_loss: 0.3232 - val_acc: 0.9140\n",
      "Epoch 79/140\n",
      "9000/9000 [==============================] - 5s 502us/step - loss: 0.1220 - acc: 0.9687 - val_loss: 0.3309 - val_acc: 0.9180\n",
      "Epoch 80/140\n",
      "9000/9000 [==============================] - 4s 481us/step - loss: 0.1258 - acc: 0.9687 - val_loss: 0.3209 - val_acc: 0.9140\n",
      "Epoch 81/140\n",
      "9000/9000 [==============================] - 4s 498us/step - loss: 0.1245 - acc: 0.9680 - val_loss: 0.3171 - val_acc: 0.9160\n",
      "Epoch 82/140\n",
      "9000/9000 [==============================] - 4s 497us/step - loss: 0.1233 - acc: 0.9686 - val_loss: 0.3225 - val_acc: 0.9160\n",
      "Epoch 83/140\n",
      "9000/9000 [==============================] - 4s 491us/step - loss: 0.1190 - acc: 0.9683 - val_loss: 0.3192 - val_acc: 0.9110\n",
      "Epoch 84/140\n",
      "9000/9000 [==============================] - 4s 473us/step - loss: 0.1156 - acc: 0.9717 - val_loss: 0.3222 - val_acc: 0.9120\n",
      "Epoch 85/140\n",
      "9000/9000 [==============================] - 5s 504us/step - loss: 0.1159 - acc: 0.9701 - val_loss: 0.3227 - val_acc: 0.9130\n",
      "Epoch 86/140\n",
      "9000/9000 [==============================] - 4s 497us/step - loss: 0.1164 - acc: 0.9704 - val_loss: 0.3179 - val_acc: 0.9180\n",
      "Epoch 87/140\n",
      "9000/9000 [==============================] - 4s 488us/step - loss: 0.1162 - acc: 0.9691 - val_loss: 0.3099 - val_acc: 0.9140\n",
      "Epoch 88/140\n",
      "9000/9000 [==============================] - 4s 478us/step - loss: 0.1106 - acc: 0.9727 - val_loss: 0.3090 - val_acc: 0.9150\n",
      "Epoch 89/140\n",
      "9000/9000 [==============================] - 4s 495us/step - loss: 0.1041 - acc: 0.9740 - val_loss: 0.3128 - val_acc: 0.9260\n",
      "Epoch 90/140\n",
      "9000/9000 [==============================] - 4s 490us/step - loss: 0.1069 - acc: 0.9727 - val_loss: 0.3106 - val_acc: 0.9200\n",
      "Epoch 91/140\n",
      "9000/9000 [==============================] - 4s 478us/step - loss: 0.1021 - acc: 0.9754 - val_loss: 0.3178 - val_acc: 0.9220\n",
      "Epoch 92/140\n",
      "9000/9000 [==============================] - 4s 479us/step - loss: 0.1049 - acc: 0.9752 - val_loss: 0.3335 - val_acc: 0.9170\n",
      "Epoch 93/140\n",
      "9000/9000 [==============================] - ETA: 0s - loss: 0.1016 - acc: 0.975 - 4s 490us/step - loss: 0.1015 - acc: 0.9756 - val_loss: 0.3165 - val_acc: 0.9190\n",
      "Epoch 94/140\n",
      "9000/9000 [==============================] - 4s 486us/step - loss: 0.1028 - acc: 0.9743 - val_loss: 0.3013 - val_acc: 0.9220\n",
      "Epoch 95/140\n",
      "9000/9000 [==============================] - 4s 481us/step - loss: 0.1038 - acc: 0.9749 - val_loss: 0.3372 - val_acc: 0.9170\n",
      "Epoch 96/140\n",
      "9000/9000 [==============================] - 4s 486us/step - loss: 0.1059 - acc: 0.9733 - val_loss: 0.3100 - val_acc: 0.9190\n",
      "Epoch 97/140\n",
      "9000/9000 [==============================] - 4s 482us/step - loss: 0.0969 - acc: 0.9761 - val_loss: 0.3215 - val_acc: 0.9210\n",
      "Epoch 98/140\n",
      "9000/9000 [==============================] - 4s 471us/step - loss: 0.0868 - acc: 0.9799 - val_loss: 0.2972 - val_acc: 0.9270\n",
      "Epoch 99/140\n",
      "9000/9000 [==============================] - 4s 476us/step - loss: 0.0971 - acc: 0.9750 - val_loss: 0.3625 - val_acc: 0.9120\n",
      "Epoch 100/140\n",
      "9000/9000 [==============================] - 4s 468us/step - loss: 0.0954 - acc: 0.9760 - val_loss: 0.3161 - val_acc: 0.9240\n",
      "Epoch 101/140\n",
      "9000/9000 [==============================] - 4s 480us/step - loss: 0.0978 - acc: 0.9763 - val_loss: 0.3119 - val_acc: 0.9210\n",
      "Epoch 102/140\n",
      "9000/9000 [==============================] - 4s 470us/step - loss: 0.0934 - acc: 0.9773 - val_loss: 0.3113 - val_acc: 0.9240\n",
      "Epoch 103/140\n",
      "9000/9000 [==============================] - 4s 480us/step - loss: 0.0966 - acc: 0.9759 - val_loss: 0.3436 - val_acc: 0.9190\n",
      "Epoch 104/140\n",
      "9000/9000 [==============================] - 4s 473us/step - loss: 0.1006 - acc: 0.9749 - val_loss: 0.2998 - val_acc: 0.9190\n",
      "Epoch 105/140\n",
      "9000/9000 [==============================] - 4s 473us/step - loss: 0.0936 - acc: 0.9774 - val_loss: 0.3054 - val_acc: 0.9210\n",
      "Epoch 106/140\n",
      "9000/9000 [==============================] - 4s 483us/step - loss: 0.0894 - acc: 0.9792 - val_loss: 0.3340 - val_acc: 0.9220\n",
      "Epoch 107/140\n",
      "9000/9000 [==============================] - 5s 586us/step - loss: 0.0985 - acc: 0.9774 - val_loss: 0.3378 - val_acc: 0.9240\n",
      "Epoch 108/140\n",
      "9000/9000 [==============================] - 24s 3ms/step - loss: 0.0898 - acc: 0.9777 - val_loss: 0.3208 - val_acc: 0.9230\n",
      "Epoch 109/140\n",
      "9000/9000 [==============================] - 5s 528us/step - loss: 0.0928 - acc: 0.9786 - val_loss: 0.3284 - val_acc: 0.9230\n",
      "Epoch 110/140\n",
      "9000/9000 [==============================] - 5s 515us/step - loss: 0.0836 - acc: 0.9792 - val_loss: 0.3310 - val_acc: 0.9190\n",
      "Epoch 111/140\n",
      "9000/9000 [==============================] - 5s 526us/step - loss: 0.0889 - acc: 0.9802 - val_loss: 0.3233 - val_acc: 0.9200\n",
      "Epoch 112/140\n",
      "9000/9000 [==============================] - 4s 451us/step - loss: 0.0943 - acc: 0.9777 - val_loss: 0.3155 - val_acc: 0.9220\n",
      "Epoch 113/140\n",
      "9000/9000 [==============================] - 4s 456us/step - loss: 0.0907 - acc: 0.9783 - val_loss: 0.3093 - val_acc: 0.9240\n",
      "Epoch 114/140\n",
      "9000/9000 [==============================] - 4s 480us/step - loss: 0.0882 - acc: 0.9794 - val_loss: 0.3075 - val_acc: 0.9260\n",
      "Epoch 115/140\n",
      "9000/9000 [==============================] - 4s 459us/step - loss: 0.0923 - acc: 0.9776 - val_loss: 0.3047 - val_acc: 0.9260\n",
      "Epoch 116/140\n",
      "9000/9000 [==============================] - 4s 451us/step - loss: 0.0868 - acc: 0.9817 - val_loss: 0.3511 - val_acc: 0.9170\n",
      "Epoch 117/140\n",
      "9000/9000 [==============================] - 4s 456us/step - loss: 0.0788 - acc: 0.9827 - val_loss: 0.3259 - val_acc: 0.9250\n",
      "Epoch 118/140\n",
      "9000/9000 [==============================] - 4s 464us/step - loss: 0.0841 - acc: 0.9802 - val_loss: 0.2988 - val_acc: 0.9320\n"
     ]
    },
    {
     "name": "stdout",
     "output_type": "stream",
     "text": [
      "Epoch 119/140\n",
      "9000/9000 [==============================] - 5s 505us/step - loss: 0.0802 - acc: 0.9812 - val_loss: 0.3110 - val_acc: 0.9290\n",
      "Epoch 120/140\n",
      "9000/9000 [==============================] - 5s 505us/step - loss: 0.0805 - acc: 0.9811 - val_loss: 0.3119 - val_acc: 0.9210\n",
      "Epoch 121/140\n",
      "9000/9000 [==============================] - 5s 515us/step - loss: 0.0827 - acc: 0.9812 - val_loss: 0.3196 - val_acc: 0.9180\n",
      "Epoch 122/140\n",
      "9000/9000 [==============================] - 5s 508us/step - loss: 0.0847 - acc: 0.9818 - val_loss: 0.3180 - val_acc: 0.9240\n",
      "Epoch 123/140\n",
      "9000/9000 [==============================] - 5s 511us/step - loss: 0.0794 - acc: 0.9818 - val_loss: 0.3035 - val_acc: 0.9240\n",
      "Epoch 124/140\n",
      "9000/9000 [==============================] - 4s 486us/step - loss: 0.0814 - acc: 0.9828 - val_loss: 0.3144 - val_acc: 0.9310\n",
      "Epoch 125/140\n",
      "9000/9000 [==============================] - 5s 502us/step - loss: 0.0814 - acc: 0.9821 - val_loss: 0.3026 - val_acc: 0.9330\n",
      "Epoch 126/140\n",
      "9000/9000 [==============================] - 5s 517us/step - loss: 0.0808 - acc: 0.9822 - val_loss: 0.2915 - val_acc: 0.9290\n",
      "Epoch 127/140\n",
      "9000/9000 [==============================] - 5s 502us/step - loss: 0.0799 - acc: 0.9811 - val_loss: 0.3049 - val_acc: 0.9270\n",
      "Epoch 128/140\n",
      "9000/9000 [==============================] - 5s 508us/step - loss: 0.0778 - acc: 0.9816 - val_loss: 0.2984 - val_acc: 0.9320\n",
      "Epoch 129/140\n",
      "9000/9000 [==============================] - 5s 502us/step - loss: 0.0800 - acc: 0.9819 - val_loss: 0.3189 - val_acc: 0.9280\n",
      "Epoch 130/140\n",
      "9000/9000 [==============================] - 5s 506us/step - loss: 0.0805 - acc: 0.9813 - val_loss: 0.3160 - val_acc: 0.9250\n",
      "Epoch 131/140\n",
      "9000/9000 [==============================] - 4s 494us/step - loss: 0.0796 - acc: 0.9818 - val_loss: 0.2879 - val_acc: 0.9280\n",
      "Epoch 132/140\n",
      "9000/9000 [==============================] - 5s 517us/step - loss: 0.0786 - acc: 0.9824 - val_loss: 0.2949 - val_acc: 0.9270\n",
      "Epoch 133/140\n",
      "9000/9000 [==============================] - 4s 492us/step - loss: 0.0720 - acc: 0.9846 - val_loss: 0.2916 - val_acc: 0.9300\n",
      "Epoch 134/140\n",
      "9000/9000 [==============================] - 4s 491us/step - loss: 0.0771 - acc: 0.9810 - val_loss: 0.3070 - val_acc: 0.9210\n",
      "Epoch 135/140\n",
      "9000/9000 [==============================] - 5s 502us/step - loss: 0.0747 - acc: 0.9822 - val_loss: 0.3072 - val_acc: 0.9320\n",
      "Epoch 136/140\n",
      "9000/9000 [==============================] - 5s 501us/step - loss: 0.0725 - acc: 0.9846 - val_loss: 0.3087 - val_acc: 0.9250\n",
      "Epoch 137/140\n",
      "9000/9000 [==============================] - 4s 491us/step - loss: 0.0705 - acc: 0.9831 - val_loss: 0.3169 - val_acc: 0.9320\n",
      "Epoch 138/140\n",
      "9000/9000 [==============================] - 4s 481us/step - loss: 0.0816 - acc: 0.9826 - val_loss: 0.3109 - val_acc: 0.9290\n",
      "Epoch 139/140\n",
      "9000/9000 [==============================] - 5s 507us/step - loss: 0.0679 - acc: 0.9853 - val_loss: 0.3160 - val_acc: 0.9280\n",
      "Epoch 140/140\n",
      "9000/9000 [==============================] - 4s 497us/step - loss: 0.0698 - acc: 0.9864 - val_loss: 0.3044 - val_acc: 0.9240\n"
     ]
    }
   ],
   "source": [
    "from keras import regularizers\n",
    "from keras.layers import BatchNormalization\n",
    "# placeholders\n",
    "input_sequence = Input((story_maxlen,))\n",
    "question = Input((query_maxlen,))\n",
    "\n",
    "# encoders\n",
    "# embed the input sequence into a sequence of vectors\n",
    "input_encoder_m = Sequential()\n",
    "input_encoder_m.add(Embedding(input_dim=vocab_size,\n",
    "                              output_dim=64))\n",
    "input_encoder_m.add(Dropout(0.3))\n",
    "# output: (samples, story_maxlen, embedding_dim)\n",
    "\n",
    "# embed the input into a sequence of vectors of size query_maxlen\n",
    "input_encoder_c = Sequential()\n",
    "input_encoder_c.add(Embedding(input_dim=vocab_size,\n",
    "                              output_dim=query_maxlen))\n",
    "input_encoder_c.add(Dropout(0.3))\n",
    "# output: (samples, story_maxlen, query_maxlen)\n",
    "\n",
    "# embed the question into a sequence of vectors\n",
    "question_encoder = Sequential()\n",
    "question_encoder.add(Embedding(input_dim=vocab_size,\n",
    "                               output_dim=64,\n",
    "                               input_length=query_maxlen))\n",
    "question_encoder.add(Dropout(0.3))\n",
    "# output: (samples, query_maxlen, embedding_dim)\n",
    "\n",
    "# encode input sequence and questions (which are indices)\n",
    "# to sequences of dense vectors\n",
    "input_encoded_m = input_encoder_m(input_sequence)\n",
    "input_encoded_c = input_encoder_c(input_sequence)\n",
    "question_encoded = question_encoder(question)\n",
    "\n",
    "# compute a 'match' between the first input vector sequence\n",
    "# and the question vector sequence\n",
    "# shape: `(samples, story_maxlen, query_maxlen)`\n",
    "match = dot([input_encoded_m, question_encoded], axes=(2, 2))\n",
    "match = Activation('softmax')(match)\n",
    "\n",
    "# add the match matrix with the second input vector sequence\n",
    "response = add([match, input_encoded_c])  # (samples, story_maxlen, query_maxlen)\n",
    "response = Permute((2, 1))(response)  # (samples, query_maxlen, story_maxlen)\n",
    "\n",
    "# concatenate the match matrix with the question vector sequence\n",
    "answer = concatenate([response, question_encoded])\n",
    "\n",
    "# BiDirectional layer\n",
    "answer = Bidirectional(LSTM(96, dropout=.2))(answer)\n",
    "\n",
    "answer = Dense(vocab_size, kernel_regularizer=regularizers.l1(.0001), activation='relu')(answer)  # (samples, vocab_size)\n",
    "\n",
    "answer = Dense(vocab_size, kernel_regularizer=regularizers.l2(.0001))(answer)\n",
    "# output: probability that each word in vocab is the answer\n",
    "\n",
    "answer = Activation('softmax')(answer)\n",
    "\n",
    "# build the final model\n",
    "model = Model([input_sequence, question], answer)\n",
    "model.compile(optimizer='adam', loss='sparse_categorical_crossentropy',\n",
    "              metrics=['accuracy'])\n",
    "\n",
    "\n",
    "\n",
    "# train\n",
    "history = model.fit([inputs_train, queries_train], answers_train,\n",
    "          batch_size=32,\n",
    "          epochs=140,\n",
    "          validation_data=([inputs_test, queries_test], answers_test))"
   ]
  },
  {
   "cell_type": "markdown",
   "metadata": {},
   "source": [
    "Note: we tested various other optimizers, hyper parameters, etc. but settled on this as our final model. To avoid confusion, we have only included our final model."
   ]
  },
  {
   "cell_type": "code",
   "execution_count": 8,
   "metadata": {},
   "outputs": [
    {
     "name": "stdout",
     "output_type": "stream",
     "text": [
      "Evaluation\n",
      "1000/1000 [==============================] - 0s 122us/step\n",
      "Test loss / test accuracy = 0.3044 / 0.9240\n"
     ]
    }
   ],
   "source": [
    "# Evaluate performance on testing data\n",
    "print('Evaluation')\n",
    "loss, acc = model.evaluate([inputs_test, queries_test], answers_test,\n",
    "                           batch_size=32)\n",
    "print('Test loss / test accuracy = {:.4f} / {:.4f}'.format(loss, acc))\n",
    "\n"
   ]
  },
  {
   "cell_type": "code",
   "execution_count": 9,
   "metadata": {},
   "outputs": [],
   "source": [
    "import ast\n",
    "\n",
    "def populateEncodedWordMap(embeddings_index,train_stories,inputs_train,queries_train):\n",
    "    '''To be used to display sample answers.\n",
    "    Build mapping of encoded numbers to words\n",
    "    '''\n",
    "    for idx in range(len(train_stories)):\n",
    "        line =train_stories[idx]\n",
    "        ak = len(line[0])\n",
    "        it = inputs_train[idx]\n",
    "        at= len(it)-ak\n",
    "        aw = line[0]\n",
    "        for i in range(len(aw)):\n",
    "            embeddings_index[it[at+i]]=aw[i]\n",
    "        qk = len(line[1])\n",
    "        qtt = queries_train[idx]\n",
    "        qt= len(qtt)-qk\n",
    "        qw= line[1]\n",
    "        for i in range(len(qw)):\n",
    "            embeddings_index[qtt[qt+i]]=qw[i]\n",
    "        "
   ]
  },
  {
   "cell_type": "code",
   "execution_count": 10,
   "metadata": {},
   "outputs": [],
   "source": [
    "# Populate mapping\n",
    "embeddings_index = {}\n",
    "populateEncodedWordMap(embeddings_index,train_stories,inputs_train,queries_train)\n"
   ]
  },
  {
   "cell_type": "markdown",
   "metadata": {},
   "source": [
    "# Example predictions"
   ]
  },
  {
   "cell_type": "code",
   "execution_count": 11,
   "metadata": {},
   "outputs": [],
   "source": [
    "# Take one input, question, answer sequence from test data\n",
    "testdata=test_stories[0]\n",
    "test_answer=testdata[0] # Context\n",
    "test_q=testdata[1] # Question\n",
    "test_ans=testdata[2] # Answer"
   ]
  },
  {
   "cell_type": "code",
   "execution_count": 12,
   "metadata": {},
   "outputs": [
    {
     "name": "stdout",
     "output_type": "stream",
     "text": [
      "Printing Sample Passage from the test observation: \n",
      "['John', 'travelled', 'to', 'the', 'hallway', '.', 'Mary', 'journeyed', 'to', 'the', 'bathroom', '.']\n",
      " \n",
      "Printing Sample Query from the test observation:  ['Where', 'is', 'John', '?']\n",
      " \n",
      "Printing Sample Answer from the test observation:  hallway\n",
      " \n",
      "Now predicting...\n",
      " \n",
      "Printing the predicted Answer is: hallway\n"
     ]
    }
   ],
   "source": [
    "print(\"Printing Sample Passage from the test observation: \")\n",
    "print(test_answer)\n",
    "print(\" \")\n",
    "print(\"Printing Sample Query from the test observation: \",test_q)\n",
    "print(\" \")\n",
    "print(\"Printing Sample Answer from the test observation: \",embeddings_index[answers_test[0]])\n",
    "print(\" \")\n",
    "print(\"Now predicting...\")\n",
    "answers_test1=model.predict([inputs_test,queries_test])\n",
    "print(\" \")\n",
    "print(\"Printing the predicted Answer is:\",embeddings_index[answers_test1[0].argmax(axis=-1)])"
   ]
  },
  {
   "cell_type": "code",
   "execution_count": 13,
   "metadata": {},
   "outputs": [],
   "source": [
    "# Take another sample\n",
    "testdata=test_stories[100]\n",
    "test_answer=testdata[0]\n",
    "test_q=testdata[1]\n",
    "test_ans=testdata[2]"
   ]
  },
  {
   "cell_type": "code",
   "execution_count": 14,
   "metadata": {},
   "outputs": [
    {
     "name": "stdout",
     "output_type": "stream",
     "text": [
      "Printing Sample Passage from the test observation: \n",
      "['Mary', 'travelled', 'to', 'the', 'garden', '.', 'Mary', 'moved', 'to', 'the', 'bedroom', '.']\n",
      " \n",
      "Printing Sample Query from the test observation:  ['Where', 'is', 'Mary', '?']\n",
      " \n",
      "Printing Sample Answer from the test observation:  bedroom\n",
      " \n",
      "Now predicting...\n",
      " \n",
      "Printing the predicted Answer is: bedroom\n"
     ]
    }
   ],
   "source": [
    "print(\"Printing Sample Passage from the test observation: \")\n",
    "print(test_answer)\n",
    "print(\" \")\n",
    "print(\"Printing Sample Query from the test observation: \",test_q)\n",
    "print(\" \")\n",
    "print(\"Printing Sample Answer from the test observation: \",embeddings_index[answers_test[100]])\n",
    "print(\" \")\n",
    "print(\"Now predicting...\")\n",
    "answers_test1=model.predict([inputs_test,queries_test])\n",
    "print(\" \")\n",
    "print(\"Printing the predicted Answer is:\",embeddings_index[answers_test1[100].argmax(axis=-1)])"
   ]
  },
  {
   "cell_type": "code",
   "execution_count": 15,
   "metadata": {},
   "outputs": [
    {
     "name": "stdout",
     "output_type": "stream",
     "text": [
      "Printing Sample Passage from the test observation: \n",
      "['Sandra', 'went', 'to', 'the', 'bedroom', '.', 'Sandra', 'travelled', 'to', 'the', 'office', '.', 'Daniel', 'went', 'back', 'to', 'the', 'garden', '.', 'Mary', 'travelled', 'to', 'the', 'bedroom', '.', 'John', 'journeyed', 'to', 'the', 'garden', '.', 'Daniel', 'went', 'back', 'to', 'the', 'hallway', '.', 'Mary', 'went', 'back', 'to', 'the', 'garden', '.', 'Mary', 'journeyed', 'to', 'the', 'bedroom', '.', 'Sandra', 'went', 'back', 'to', 'the', 'kitchen', '.', 'Sandra', 'went', 'to', 'the', 'garden', '.']\n",
      " \n",
      "Printing Sample Query from the test observation:  ['Where', 'is', 'Daniel', '?']\n",
      " \n",
      "Printing Sample Answer from the test observation:  hallway\n",
      " \n",
      "Now predicting...\n",
      " \n",
      "Printing the predicted Answer is: kitchen\n"
     ]
    }
   ],
   "source": [
    "# Take another sample\n",
    "testdata=test_stories[754]\n",
    "test_answer=testdata[0]\n",
    "test_q=testdata[1]\n",
    "test_ans=testdata[2]\n",
    "print(\"Printing Sample Passage from the test observation: \")\n",
    "print(test_answer)\n",
    "print(\" \")\n",
    "print(\"Printing Sample Query from the test observation: \",test_q)\n",
    "print(\" \")\n",
    "print(\"Printing Sample Answer from the test observation: \",embeddings_index[answers_test[754]])\n",
    "print(\" \")\n",
    "print(\"Now predicting...\")\n",
    "answers_test1=model.predict([inputs_test,queries_test])\n",
    "print(\" \")\n",
    "print(\"Printing the predicted Answer is:\",embeddings_index[answers_test1[754].argmax(axis=-1)])\n",
    "        #print(test_stories[i],embeddings_index[answers_test[i]],embeddings_index[answers_test1[i].argmax(axis=-1)])"
   ]
  },
  {
   "cell_type": "markdown",
   "metadata": {},
   "source": [
    "## We can also generate our own examples:"
   ]
  },
  {
   "cell_type": "code",
   "execution_count": 16,
   "metadata": {},
   "outputs": [
    {
     "name": "stderr",
     "output_type": "stream",
     "text": [
      "c:\\users\\kyle\\anaconda3\\lib\\re.py:212: FutureWarning: split() requires a non-empty pattern match.\n",
      "  return _compile(pattern, flags).split(string, maxsplit)\n"
     ]
    }
   ],
   "source": [
    "user_context=\"Mary went to the office. John went to the bathroom. Daniel went back to the kitchen. \\\n",
    "Mary travelled to the garden. Sandra journeyed to the bedroom. Daniel moved to the office. \\\n",
    "John went to the hallway.\"\n",
    "user_q=\"Where is Mary?\"\n",
    "\n",
    "user_story = (tokenize(user_context), tokenize(user_q), '?')\n",
    "sample_context, sample_q, sample_a = vectorize_stories([user_story])"
   ]
  },
  {
   "cell_type": "code",
   "execution_count": 17,
   "metadata": {},
   "outputs": [
    {
     "name": "stdout",
     "output_type": "stream",
     "text": [
      "Printing Sample Context: \n",
      "Mary went to the office. John went to the bathroom. Daniel went back to the kitchen. Mary travelled to the garden. Sandra journeyed to the bedroom. Daniel moved to the office. John went to the hallway.\n",
      " \n",
      "Printing Sample Query:  Where is Mary?\n",
      " \n",
      "Now predicting...\n",
      " \n",
      "Printing the predicted 1st observation's answer  garden\n"
     ]
    }
   ],
   "source": [
    "print(\"Printing Sample Context: \")\n",
    "print(user_context)\n",
    "print(\" \")\n",
    "print(\"Printing Sample Query: \",user_q)\n",
    "print(\" \")\n",
    "\n",
    "print(\"Now predicting...\")\n",
    "pred=model.predict([sample_context,sample_q])\n",
    "print(\" \")\n",
    "print(\"Printing the predicted 1st observation's answer \",embeddings_index[pred[0].argmax(axis=-1)])"
   ]
  },
  {
   "cell_type": "markdown",
   "metadata": {},
   "source": [
    "# Plots"
   ]
  },
  {
   "cell_type": "code",
   "execution_count": 19,
   "metadata": {},
   "outputs": [
    {
     "data": {
      "image/png": "[encoded data removed]",
      "text/plain": [
       "<Figure size 1080x576 with 1 Axes>"
      ]
     },
     "metadata": {},
     "output_type": "display_data"
    }
   ],
   "source": [
    "# Plot training vs. validation loss\n",
    "\n",
    "import matplotlib.pyplot as plt\n",
    "plt.rcParams['figure.figsize'] = 15,8\n",
    "\n",
    "acc = history.history['acc']\n",
    "val_acc = history.history['val_acc']\n",
    "loss = history.history['loss']\n",
    "val_loss = history.history['val_loss']\n",
    "\n",
    "epochs = range(1, len(acc) + 1)\n",
    "epochs = range(1, len(loss) + 1)\n",
    "\n",
    "plt.plot(epochs, loss, 'bo', label='Training loss')\n",
    "plt.plot(epochs, val_loss, 'b', label='Validation loss')\n",
    "plt.title('Training and validation loss')\n",
    "plt.xlabel('Epochs')\n",
    "plt.ylabel('Loss')\n",
    "plt.legend()\n",
    "\n",
    "plt.show()"
   ]
  },
  {
   "cell_type": "code",
   "execution_count": 20,
   "metadata": {
    "scrolled": true
   },
   "outputs": [
    {
     "data": {
      "image/png": "[encoded data removed]",
      "text/plain": [
       "<Figure size 1080x576 with 1 Axes>"
      ]
     },
     "metadata": {},
     "output_type": "display_data"
    }
   ],
   "source": [
    "# Plot training vs. validation accuracy\n",
    "\n",
    "plt.clf()   # clear figure\n",
    "acc = history.history['acc']\n",
    "val_acc = history.history['val_acc']\n",
    "\n",
    "plt.plot(epochs, acc, 'bo', label='Training acc')\n",
    "plt.plot(epochs, val_acc, 'b', label='Validation acc')\n",
    "plt.title('Training and validation accuracy')\n",
    "plt.xlabel('Epochs')\n",
    "plt.ylabel('Accuracy')\n",
    "plt.legend()\n",
    "\n",
    "plt.show()"
   ]
  },
  {
   "cell_type": "markdown",
   "metadata": {},
   "source": [
    "Due to randomization, sometimes plots show slight overfitting and sometimes they don't. We tested multiple regularization parameters and found these to be best. In most cases, overfitting was not an issue and validation accuracy was not significantly different from training accuracy."
   ]
  }
 ],
 "metadata": {
  "kernelspec": {
   "display_name": "Python 3",
   "language": "python",
   "name": "python3"
  },
  "language_info": {
   "codemirror_mode": {
    "name": "ipython",
    "version": 3
   },
   "file_extension": ".py",
   "mimetype": "text/x-python",
   "name": "python",
   "nbconvert_exporter": "python",
   "pygments_lexer": "ipython3",
   "version": "3.6.4"
  },
  "toc": {
   "base_numbering": 1,
   "nav_menu": {},
   "number_sections": true,
   "sideBar": true,
   "skip_h1_title": false,
   "title_cell": "Table of Contents",
   "title_sidebar": "Contents",
   "toc_cell": false,
   "toc_position": {},
   "toc_section_display": true,
   "toc_window_display": false
  }
 },
 "nbformat": 4,
 "nbformat_minor": 2
}
